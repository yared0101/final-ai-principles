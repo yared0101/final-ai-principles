{
 "cells": [
  {
   "cell_type": "markdown",
   "metadata": {},
   "source": [
    "Assume an adversary joins the Traveling Ethiopia Search Problem as shown in Figure 4. The goal of the agent would be to reach to a state where it gains good quality of Coffee. Write a class that shows how MiniMax search algorithm directs an agent to the best achievable destination.\n"
   ]
  },
  {
   "cell_type": "markdown",
   "metadata": {},
   "source": [
    "# define our state space\n"
   ]
  },
  {
   "cell_type": "code",
   "execution_count": 2,
   "metadata": {},
   "outputs": [],
   "source": [
    "stateSpace = {\n",
    "    \"Addis Ababa\": [\"Ambo\", \"ButaJirra\", \"Adama\"],\n",
    "    \"Ambo\": [\"Gedo\", \"Nekemte\"],\n",
    "    \"ButaJirra\": [\"Worabe\", \"Wolkite\"],\n",
    "    \"Adama\": [\"Mojo\", \"DireDawa\"],\n",
    "    \"Gedo\": [\"Fincha\", \"Shamba\"],\n",
    "    \"Nekemte\": [\"Gimbi\", \"Limu\"],\n",
    "    \"Worabe\": [\"Hossana\", \"Durame\"],\n",
    "    \"Wolkite\": [\"Bench Maji\", \"Tepi\"],\n",
    "    \"Mojo\": [\"Kaffa\", \"Dilla\"],\n",
    "    \"DireDawa\": [\"Chiro\", \"Harar\"],\n",
    "}\n",
    "utilityNodes = {\n",
    "    \"Fincha\": 5,\n",
    "    \"Shamba\": 4,\n",
    "    \"Gimbi\": 8,\n",
    "    \"Limu\": 8,\n",
    "    \"Hossana\": 6,\n",
    "    \"Durame\": 5,\n",
    "    \"Bench Maji\": 5,\n",
    "    \"Tepi\": 6,\n",
    "    \"Kaffa\": 7,\n",
    "    \"Dilla\": 9,\n",
    "    \"Chiro\": 6,\n",
    "    \"Harar\": 10,\n",
    "}"
   ]
  },
  {
   "cell_type": "markdown",
   "metadata": {},
   "source": [
    "# define minimax algorithm\n"
   ]
  },
  {
   "cell_type": "code",
   "execution_count": 3,
   "metadata": {},
   "outputs": [],
   "source": [
    "from math import inf as infinity\n",
    "\n",
    "\n",
    "class MiniMax:\n",
    "    def __init__(self, stateSpace, utilityNodes):\n",
    "        self.stateSpace = stateSpace\n",
    "        self.utilityNodes = utilityNodes\n",
    "\n",
    "    def max_value(self, state):\n",
    "        if state in self.utilityNodes:\n",
    "            return self.utilityNodes[state]\n",
    "        v = -infinity\n",
    "        for a in self.stateSpace[state]:\n",
    "            v = max(v, self.min_value(a))\n",
    "        return v\n",
    "\n",
    "    def min_value(self, state):\n",
    "        if state in self.utilityNodes:\n",
    "            return self.utilityNodes[state]\n",
    "        v = infinity\n",
    "        for a in self.stateSpace[state]:\n",
    "            v = min(v, self.max_value(a))\n",
    "        return v\n",
    "\n",
    "    def minimax(self, state):\n",
    "        return self.max_value(state)"
   ]
  },
  {
   "cell_type": "code",
   "execution_count": 4,
   "metadata": {},
   "outputs": [
    {
     "name": "stdout",
     "output_type": "stream",
     "text": [
      "9\n"
     ]
    }
   ],
   "source": [
    "miniMax = MiniMax(stateSpace, utilityNodes)\n",
    "print(miniMax.minimax(\"Addis Ababa\"))"
   ]
  },
  {
   "cell_type": "markdown",
   "metadata": {},
   "source": [
    "# We need to see move by move, and final path\n"
   ]
  },
  {
   "cell_type": "code",
   "execution_count": 19,
   "metadata": {},
   "outputs": [
    {
     "name": "stdout",
     "output_type": "stream",
     "text": [
      "player move from Addis Ababa to Adama\n",
      "adversary move from Adama to Mojo\n",
      "player move from Mojo to Dilla\n",
      "Game Complete\n",
      "finalPath:  ['Addis Ababa', 'Adama', 'Mojo', 'Dilla']\n"
     ]
    }
   ],
   "source": [
    "class MiniMaxWithPath:\n",
    "    def __init__(self, stateSpace, utilityNodes, initialNode):\n",
    "        self.stateSpace = stateSpace\n",
    "        self.utilityNodes = utilityNodes\n",
    "        self.path = []\n",
    "        self.initialNode = initialNode\n",
    "\n",
    "    def max_value(self, state):\n",
    "        if state in self.utilityNodes:\n",
    "            return self.utilityNodes[state], state\n",
    "        v = -infinity\n",
    "        next_states = []\n",
    "        for a in self.stateSpace[state]:\n",
    "            state_min_value, _ = self.min_value(a)\n",
    "            next_states.append((a, state_min_value))\n",
    "            v = max(v, state_min_value)\n",
    "        # now we need to find the state that has the max value\n",
    "        for state, value in next_states:\n",
    "            if value == v:\n",
    "                return value, state\n",
    "\n",
    "    def min_value(self, state):\n",
    "        if state in self.utilityNodes:\n",
    "            return self.utilityNodes[state], state\n",
    "        v = infinity\n",
    "        next_states = []\n",
    "        for a in self.stateSpace[state]:\n",
    "            state_max_value, _ = self.max_value(a)\n",
    "            next_states.append((a, state_max_value))\n",
    "            v = min(v, state_max_value)\n",
    "        # now we need to find the state that has the min value\n",
    "        for state, value in next_states:\n",
    "            if value == v:\n",
    "                return value, state\n",
    "\n",
    "    def play(self):\n",
    "        currentCity = self.initialNode\n",
    "        if len(self.path) > 0:\n",
    "            currentCity = self.path[-1]\n",
    "        else:\n",
    "            self.path.append(currentCity)\n",
    "        if currentCity in self.utilityNodes:\n",
    "            print(\"Game Complete\")\n",
    "            return self.path\n",
    "        _, new_city = self.max_value(currentCity)\n",
    "        print(f\"player move from {currentCity} to {new_city}\")\n",
    "        self.path.append(new_city)\n",
    "        return self.adversaryPlay()\n",
    "\n",
    "    def adversaryPlay(self):\n",
    "        currentCity = self.initialNode\n",
    "        if len(self.path) > 0:\n",
    "            currentCity = self.path[-1]\n",
    "        else:\n",
    "            self.path.append(currentCity)\n",
    "        if currentCity in self.utilityNodes:\n",
    "            print(\"Game Complete\")\n",
    "            return self.path\n",
    "        _, new_city = self.min_value(currentCity)\n",
    "        print(f\"adversary move from {currentCity} to {new_city}\")\n",
    "        self.path.append(new_city)\n",
    "        return self.play()\n",
    "\n",
    "\n",
    "miniMaxWithPath = MiniMaxWithPath(stateSpace, utilityNodes, initialNode=\"Addis Ababa\")\n",
    "finalPath = miniMaxWithPath.play()\n",
    "print(f\"finalPath: \", finalPath)"
   ]
  },
  {
   "cell_type": "code",
   "execution_count": null,
   "metadata": {},
   "outputs": [],
   "source": []
  }
 ],
 "metadata": {
  "kernelspec": {
   "display_name": "Python 3",
   "language": "python",
   "name": "python3"
  },
  "language_info": {
   "codemirror_mode": {
    "name": "ipython",
    "version": 3
   },
   "file_extension": ".py",
   "mimetype": "text/x-python",
   "name": "python",
   "nbconvert_exporter": "python",
   "pygments_lexer": "ipython3",
   "version": "3.12.0"
  }
 },
 "nbformat": 4,
 "nbformat_minor": 2
}
