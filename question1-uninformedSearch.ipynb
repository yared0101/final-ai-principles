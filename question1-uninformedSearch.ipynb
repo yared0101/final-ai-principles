{
 "cells": [
  {
   "cell_type": "markdown",
   "metadata": {},
   "source": [
    "# Question 1\n",
    "\n",
    "Consider Figure 1 (A generic state space graph for traveling Ethiopia search problem) to solve the following problems.\n",
    "\n",
    "1.1. Convert Figure 1, a State space graph for traveling Ethiopia search problem, into some\n",
    "sort of manageable data structure such as, stack or queue.\n",
    "\n",
    "1.2. Write a class that takes the converted state space graph, initial state, goal state and a\n",
    "search strategy and return the corresponding solution/path according to the given strategy.\n",
    "Please consider only breadth-first search and depth-first search strategies for this question.\n"
   ]
  },
  {
   "cell_type": "markdown",
   "metadata": {},
   "source": [
    "# 1.1 conversion to a manageable data stracture\n"
   ]
  },
  {
   "cell_type": "code",
   "execution_count": 54,
   "metadata": {},
   "outputs": [],
   "source": [
    "paths = {\n",
    "    \"Addis Ababa\": [\"Adama\", \"Ambo\", \"Debre Berhan\", \"Debre Markos\"],\n",
    "    \"Adama\": [\"Matahara\", \"Asella\", \"Batu\", \"Addis Ababa\"],\n",
    "    \"Ambo\": [\"Wolkite\", \"Addis Ababa\", \"Nekemte\"],\n",
    "    \"Debre Berhan\": [\"Addis Ababa\", \"Debre Sina\"],\n",
    "    \"Debre Markos\": [\"Addis Ababa\", \"Debre Sina\", \"Finote Selam\"],\n",
    "    \"Matahara\": [\"Adama\", \"Awash\"],\n",
    "    \"Asella\": [\"Adama\", \"Assasa\"],\n",
    "    \"Batu\": [\"Adama\", \"Buta Jirra\", \"Shashamene\"],\n",
    "    \"Wolkite\": [\"Ambo\", \"Worabe\", \"Jimma\", \"Hossana\", \"Buta Jirra\"],\n",
    "    \"Nekemte\": [\"Ambo\", \"Bedelle\", \"Gimbi\"],\n",
    "    \"Debre Sina\": [\"Debre Berhan\", \"Kemise\", \"Debre Markos\"],\n",
    "    \"Finote Selam\": [\"Debre Markos\", \"Bahirdar\", \"Injibara\"],\n",
    "    \"Awash\": [\"Chiro\", \"Gobi Rasu\", \"Matahara\"],\n",
    "    \"Assasa\": [\"Asella\", \"Dodolla\"],\n",
    "    \"Buta Jirra\": [\"Batu\", \"Wolkite\", \"Worabe\"],\n",
    "    \"Shashamene\": [\"Batu\", \"Dodolla\", \"Hawassa\", \"Hossana\", \"Worabe\"],\n",
    "    \"Worabe\": [\"Wolkite\", \"Hossana\", \"Shashamene\", \"Buta Jirra\"],\n",
    "    \"Jimma\": [\"Wolkite\", \"Bonga\", \"Bedelle\"],\n",
    "    \"Hossana\": [\"Shashamene\", \"Worabe\", \"Wolkite\", \"Wolaita Sodo\"],\n",
    "    \"Bedelle\": [\"Nekemte\", \"Gore\", \"Jimma\"],\n",
    "    \"Gimbi\": [\"Nekemte\", \"Dambidollo\", \"Assosa\"],\n",
    "    \"Kemise\": [\"Debre Sina\", \"Dessie\"],\n",
    "    \"Bahirdar\": [\"Finote Selam\", \"Injibara\", \"Metekel\", \"Azezo\", \"Debre Tabor\"],\n",
    "    \"Injibara\": [\"Bahirdar\", \"Finote Selam\"],\n",
    "    \"Chiro\": [\"Awash\", \"Dire Dawa\"],\n",
    "    \"Gobi Rasu\": [\"Awash\", \"Samara\"],\n",
    "    \"Dodolla\": [\"Assasa\", \"Shashamene\", \"Robe\"],\n",
    "    \"Hawassa\": [\"Shashamene\", \"Dilla\"],\n",
    "    \"Bonga\": [\"Jimma\", \"Dawro\", \"Tepi\", \"Mizan Teferi\"],\n",
    "    \"Wolaita Sodo\": [\"Arba Minchi\", \"Dawro\", \"Hossana\"],\n",
    "    \"Gore\": [\"Tepi\", \"Gambella\", \"Bedelle\"],\n",
    "    \"Dambidollo\": [\"Gimbi\", \"Assosa\", \"Gambella\"],\n",
    "    \"Assosa\": [\"Gimbi\", \"Dambidollo\"],\n",
    "    \"Dessie\": [\"Kemise\", \"Woldia\"],\n",
    "    \"Metekel\": [\"Bahirdar\"],\n",
    "    \"Azezo\": [\"Gondar\", \"Bahirdar\", \"Metema\"],\n",
    "    \"Debre Tabor\": [\"Lalibella\", \"Gondar\", \"Bahirdar\"],\n",
    "    \"Dire Dawa\": [\"Chiro\", \"Harar\"],\n",
    "    \"Samara\": [\"Gobi Rasu\", \"Fanti Rasu\", \"Alamata\", \"Woldia\"],\n",
    "    \"Robe\": [\"Liben\", \"Dodolla\", \"Goba\", \"Sof Oumer\"],\n",
    "    \"Dilla\": [\"Hawassa\", \"Bulehora\"],\n",
    "    \"Dawro\": [\"Bonga\", \"Wolaita Sodo\"],\n",
    "    \"Tepi\": [\"Gore\", \"Bonga\", \"Mizan Teferi\"],\n",
    "    \"Mizan Teferi\": [\"Tepi\", \"Bonga\"],\n",
    "    \"Gambella\": [\"Gore\", \"Dambidollo\"],\n",
    "    \"Arba Minchi\": [\"Wolaita Sodo\", \"Konso\", \"Basketo\"],\n",
    "    \"Woldia\": [\"Dessie\", \"Lalibella\", \"Samara\", \"Alamata\"],\n",
    "    \"Gondar\": [\"Azezo\", \"Humera\", \"Metema\", \"Debarke\", \"Debre Tabor\"],\n",
    "    \"Metema\": [\"Azezo\", \"Gondar\", \"Kartum\"],\n",
    "    \"Lalibella\": [\"Woldia\", \"Debre Tabor\", \"Sekota\"],\n",
    "    \"Harar\": [\"Dire Dawa\", \"Babile\"],\n",
    "    \"Fanti Rasu\": [\"Samara\", \"Kilbet Rasu\"],\n",
    "    \"Alamata\": [\"Samara\", \"Woldia\", \"Mekelle\", \"Sekota\"],\n",
    "    \"Liben\": [\"Robe\", \"Moyale\"],\n",
    "    \"Goba\": [\"Robe\", \"Sof Oumer\", \"Babile\"],\n",
    "    \"Sof Oumer\": [\"Goba\", \"Robe\", \"Gode\"],\n",
    "    \"Bulehora\": [\"Dilla\", \"Yabello\"],\n",
    "    \"Konso\": [\"Arba Minchi\", \"Yabello\"],\n",
    "    \"Basketo\": [\"Arba Minchi\", \"Bench Maji\"],\n",
    "    \"Humera\": [\"Shire\", \"Gondar\", \"Kartum\"],\n",
    "    \"Debarke\": [\"Gondar\", \"Shire\"],\n",
    "    \"Sekota\": [\"Alamata\", \"Mekelle\", \"Lalibella\"],\n",
    "    \"Babile\": [\"Harar\", \"Jigjiga\", \"Goba\"],\n",
    "    \"Kilbet Rasu\": [\"Fanti Rasu\"],\n",
    "    \"Mekelle\": [\"Alamata\", \"Adigrat\", \"Adwa\", \"Sekota\"],\n",
    "    \"Gode\": [\"Dollo\", \"Kebri Dehar\", \"Sof Oumer\", \"Mogadishu\"],\n",
    "    \"Yabello\": [\"Bulehora\", \"Konso\", \"Moyale\"],\n",
    "    \"Bench Maji\": [\"Basketo\", \"Juba\"],\n",
    "    \"Shire\": [\"Axum\", \"Humera\", \"Debarke\"],\n",
    "    \"Jigjiga\": [\"Babile\", \"Dega Habur\"],\n",
    "    \"Adigrat\": [\"Mekelle\", \"Adwa\", \"Asmera\"],\n",
    "    \"Adwa\": [\"Mekelle\", \"Axum\", \"Adigrat\"],\n",
    "    \"Dollo\": [\"Gode\", \"Moyale\"],\n",
    "    \"Kebri Dehar\": [\"Gode\", \"Dega Habur\", \"Werder\"],\n",
    "    \"Moyale\": [\"Dollo\", \"Liben\", \"Yabello\", \"Nairobi\", \"Mogadishu\"],\n",
    "    \"Axum\": [\"Shire\", \"Adwa\", \"Asmera\"],\n",
    "    \"Dega Habur\": [\"Jigjiga\", \"Kebri Dehar\"],\n",
    "    \"Werder\": [\"Kebri Dehar\"],\n",
    "    \"Asmera\": [\"Adigrat\", \"Axum\"],\n",
    "    \"Juba\": [\"Bench Maji\"],\n",
    "    \"Kartum\": [\"Metema\", \"Humera\"],\n",
    "    \"Mogadishu\": [\"Gode\", \"Moyale\"],\n",
    "    \"Nairobi\": [\"Moyale\"],\n",
    "}"
   ]
  },
  {
   "cell_type": "markdown",
   "metadata": {},
   "source": [
    "# 1.2 Write a class that takes a state space graph, initial state, goal state and a search strategy and return the corresponding path\n"
   ]
  },
  {
   "cell_type": "code",
   "execution_count": 76,
   "metadata": {},
   "outputs": [],
   "source": [
    "# 1.2 Write a class that takes the converted state space graph, initial state, goal state and a search strategy and return the corresponding path\n",
    "\n",
    "\n",
    "class PathFinder:\n",
    "    def __init__(self, paths, initial_state, goal_state, search_strategy):\n",
    "        self.paths = paths\n",
    "        self.initial_state = initial_state\n",
    "        self.goal_state = goal_state\n",
    "        self.search_strategy = search_strategy\n",
    "\n",
    "    def find_path(self):\n",
    "        if self.search_strategy == \"bfs\":\n",
    "            return self.bfs()\n",
    "        elif self.search_strategy == \"dfs\":\n",
    "            return self.dfs()\n",
    "        else:\n",
    "            return \"Invalid search strategy\"\n",
    "\n",
    "    def bfs(self):\n",
    "        queue = [[self.initial_state]]\n",
    "        visited = set()\n",
    "        while queue:\n",
    "            # FIFO strategy so pop from the front\n",
    "            path = queue.pop(0)\n",
    "            node = path[-1]\n",
    "            if node == self.goal_state:\n",
    "                return path\n",
    "            if node not in visited:\n",
    "                for neighbour in self.paths[node]:\n",
    "                    new_path = list(path)\n",
    "                    new_path.append(neighbour)\n",
    "                    queue.append(new_path)\n",
    "                visited.add(node)\n",
    "        return \"No path found\"\n",
    "\n",
    "    def dfs(self):\n",
    "        path = [self.initial_state]\n",
    "        visited = set()\n",
    "        dead_ends = set()\n",
    "        while path:\n",
    "            node = path[-1]\n",
    "            if node == self.goal_state:\n",
    "                return path\n",
    "            visited.add(node)\n",
    "            next_node = None\n",
    "            for neighbour in self.paths[node]:\n",
    "                if neighbour not in visited:\n",
    "                    next_node = neighbour\n",
    "                    break\n",
    "            if next_node:\n",
    "                path.append(next_node)\n",
    "            else:\n",
    "                # means we're at a dead end, either a non goal terminal node or a node with all neighbours explored\n",
    "                # backtrack\n",
    "                dead_ends.add(node)\n",
    "                path.pop()\n",
    "        return \"No path found\""
   ]
  },
  {
   "cell_type": "code",
   "execution_count": 33,
   "metadata": {},
   "outputs": [
    {
     "name": "stdout",
     "output_type": "stream",
     "text": [
      "Breadth First Search - ['Addis Ababa', 'Adama', 'Asella', 'Assasa', 'Dodolla', 'Robe', 'Liben', 'Moyale']\n"
     ]
    }
   ],
   "source": [
    "bfs = PathFinder(\n",
    "    paths, initial_state=\"Addis Ababa\", goal_state=\"Moyale\", search_strategy=\"bfs\"\n",
    ")\n",
    "print(\"Breadth First Search -\", bfs.find_path())"
   ]
  },
  {
   "cell_type": "code",
   "execution_count": 78,
   "metadata": {},
   "outputs": [
    {
     "name": "stdout",
     "output_type": "stream",
     "text": [
      "Depth First Search - ['Addis Ababa', 'Adama', 'Matahara', 'Awash', 'Chiro', 'Dire Dawa', 'Harar', 'Babile', 'Jigjiga', 'Dega Habur', 'Kebri Dehar', 'Gode', 'Dollo', 'Moyale']\n"
     ]
    }
   ],
   "source": [
    "dfs = PathFinder(\n",
    "    paths, initial_state=\"Addis Ababa\", goal_state=\"Moyale\", search_strategy=\"dfs\"\n",
    ")\n",
    "print(\"Depth First Search -\", dfs.find_path())"
   ]
  },
  {
   "cell_type": "code",
   "execution_count": null,
   "metadata": {},
   "outputs": [],
   "source": []
  }
 ],
 "metadata": {
  "kernelspec": {
   "display_name": "Python 3",
   "language": "python",
   "name": "python3"
  },
  "language_info": {
   "codemirror_mode": {
    "name": "ipython",
    "version": 3
   },
   "file_extension": ".py",
   "mimetype": "text/x-python",
   "name": "python",
   "nbconvert_exporter": "python",
   "pygments_lexer": "ipython3",
   "version": "3.12.0"
  }
 },
 "nbformat": 4,
 "nbformat_minor": 2
}
